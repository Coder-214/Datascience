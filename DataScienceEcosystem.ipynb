{
 "cells": [
  {
   "cell_type": "markdown",
   "id": "5b527040",
   "metadata": {},
   "source": [
    "# Data Science Tools and Ecosystem"
   ]
  },
  {
   "cell_type": "markdown",
   "id": "4b1710cd",
   "metadata": {},
   "source": [
    "In this notebook, Data Science Tools and Ecosystem are summarized"
   ]
  },
  {
   "cell_type": "markdown",
   "id": "745f866f",
   "metadata": {},
   "source": [
    "Some of the popular languages that Data Scientists use are:\n",
    "Python\n",
    "R\n",
    "SQL\n",
    "Java\n",
    "Julia\n",
    "Scala\n",
    "C/C++\n",
    "JavaScript\n",
    "Swift\n",
    "Go\n",
    "MATLAB\n",
    "SAS"
   ]
  },
  {
   "cell_type": "markdown",
   "id": "f72e256e",
   "metadata": {},
   "source": [
    "Some of the commonly used libraries used by Data Scientists include:\n",
    "TensorFlow\n",
    "NumPy\n",
    "SciPy \n",
    "Pandas\n",
    "Matplotlib \n",
    "Keras\n",
    "SciKit-Learn\n",
    "PyTorch\n",
    "Scrapy\n",
    "BeautifulSoup\n",
    "LightGBM\n",
    "ELI5\n",
    "Theano\n",
    "NuPIC\n",
    "Ramp\n",
    "Pipenv\n",
    "Bob\n",
    "PyBrain\n",
    "Caffe2\n",
    "Chainer"
   ]
  },
  {
   "cell_type": "markdown",
   "id": "91ab0246",
   "metadata": {},
   "source": [
    "Data Science Tools\n",
    "Excel\n",
    "BigML\n",
    "Google Analytics\n",
    "Python"
   ]
  },
  {
   "cell_type": "markdown",
   "id": "bce3707d",
   "metadata": {},
   "source": [
    "### Below are a few examples of evaluating arithmetic expressions in Python"
   ]
  },
  {
   "cell_type": "code",
   "execution_count": null,
   "id": "7d47cc72",
   "metadata": {},
   "outputs": [],
   "source": [
    "(3*4)+5 #This a simple arithmetic expression to mutiply then add integers"
   ]
  },
  {
   "cell_type": "code",
   "execution_count": null,
   "id": "b9f50899",
   "metadata": {},
   "outputs": [],
   "source": [
    "200/60 #This will convert 200 minutes to hours by diving by 60"
   ]
  },
  {
   "cell_type": "code",
   "execution_count": null,
   "id": "6560d776",
   "metadata": {},
   "outputs": [],
   "source": []
  },
  {
   "cell_type": "code",
   "execution_count": null,
   "id": "bdf1c77c",
   "metadata": {},
   "outputs": [],
   "source": []
  }
 ],
 "metadata": {
  "kernelspec": {
   "display_name": "Python 3 (ipykernel)",
   "language": "python",
   "name": "python3"
  },
  "language_info": {
   "codemirror_mode": {
    "name": "ipython",
    "version": 3
   },
   "file_extension": ".py",
   "mimetype": "text/x-python",
   "name": "python",
   "nbconvert_exporter": "python",
   "pygments_lexer": "ipython3",
   "version": "3.9.13"
  }
 },
 "nbformat": 4,
 "nbformat_minor": 5
}
